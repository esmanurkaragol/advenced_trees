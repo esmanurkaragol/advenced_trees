{
 "cells": [
  {
   "cell_type": "markdown",
   "id": "8442ac82",
   "metadata": {},
   "source": [
    "# Random Forests, GBM, XGBoost, LightGBM, CatBoost\n"
   ]
  },
  {
   "cell_type": "code",
   "execution_count": 51,
   "id": "e9ad00fd",
   "metadata": {},
   "outputs": [
    {
     "name": "stdout",
     "output_type": "stream",
     "text": [
      "Requirement already satisfied: catboost in c:\\users\\esman\\anaconda3\\lib\\site-packages (1.1.1)\n",
      "Requirement already satisfied: matplotlib in c:\\users\\esman\\anaconda3\\lib\\site-packages (from catboost) (3.7.1)\n",
      "Requirement already satisfied: plotly in c:\\users\\esman\\anaconda3\\lib\\site-packages (from catboost) (5.9.0)\n",
      "Requirement already satisfied: pandas>=0.24.0 in c:\\users\\esman\\anaconda3\\lib\\site-packages (from catboost) (1.5.3)\n",
      "Requirement already satisfied: six in c:\\users\\esman\\anaconda3\\lib\\site-packages (from catboost) (1.16.0)\n",
      "Requirement already satisfied: scipy in c:\\users\\esman\\anaconda3\\lib\\site-packages (from catboost) (1.10.1)\n",
      "Requirement already satisfied: numpy>=1.16.0 in c:\\users\\esman\\anaconda3\\lib\\site-packages (from catboost) (1.23.5)\n",
      "Requirement already satisfied: graphviz in c:\\users\\esman\\anaconda3\\lib\\site-packages (from catboost) (0.20.1)\n",
      "Requirement already satisfied: pytz>=2020.1 in c:\\users\\esman\\anaconda3\\lib\\site-packages (from pandas>=0.24.0->catboost) (2022.7)\n",
      "Requirement already satisfied: python-dateutil>=2.8.1 in c:\\users\\esman\\anaconda3\\lib\\site-packages (from pandas>=0.24.0->catboost) (2.8.2)\n",
      "Requirement already satisfied: fonttools>=4.22.0 in c:\\users\\esman\\anaconda3\\lib\\site-packages (from matplotlib->catboost) (4.25.0)\n",
      "Requirement already satisfied: kiwisolver>=1.0.1 in c:\\users\\esman\\anaconda3\\lib\\site-packages (from matplotlib->catboost) (1.4.4)\n",
      "Requirement already satisfied: pyparsing>=2.3.1 in c:\\users\\esman\\anaconda3\\lib\\site-packages (from matplotlib->catboost) (3.0.9)\n",
      "Requirement already satisfied: contourpy>=1.0.1 in c:\\users\\esman\\anaconda3\\lib\\site-packages (from matplotlib->catboost) (1.0.7)\n",
      "Requirement already satisfied: pillow>=6.2.0 in c:\\users\\esman\\anaconda3\\lib\\site-packages (from matplotlib->catboost) (9.4.0)\n",
      "Requirement already satisfied: importlib-resources>=3.2.0 in c:\\users\\esman\\anaconda3\\lib\\site-packages (from matplotlib->catboost) (5.12.0)\n",
      "Requirement already satisfied: cycler>=0.10 in c:\\users\\esman\\anaconda3\\lib\\site-packages (from matplotlib->catboost) (0.11.0)\n",
      "Requirement already satisfied: packaging>=20.0 in c:\\users\\esman\\anaconda3\\lib\\site-packages (from matplotlib->catboost) (23.0)\n",
      "Requirement already satisfied: tenacity>=6.2.0 in c:\\users\\esman\\anaconda3\\lib\\site-packages (from plotly->catboost) (8.0.1)\n",
      "Requirement already satisfied: zipp>=3.1.0 in c:\\users\\esman\\anaconda3\\lib\\site-packages (from importlib-resources>=3.2.0->matplotlib->catboost) (3.11.0)\n"
     ]
    }
   ],
   "source": [
    "!pip install catboost\n"
   ]
  },
  {
   "cell_type": "code",
   "execution_count": 52,
   "id": "3834d90d",
   "metadata": {},
   "outputs": [
    {
     "name": "stdout",
     "output_type": "stream",
     "text": [
      "Requirement already satisfied: xgboost in c:\\users\\esman\\anaconda3\\lib\\site-packages (1.7.5)\n",
      "Requirement already satisfied: scipy in c:\\users\\esman\\anaconda3\\lib\\site-packages (from xgboost) (1.10.1)\n",
      "Requirement already satisfied: numpy in c:\\users\\esman\\anaconda3\\lib\\site-packages (from xgboost) (1.23.5)\n"
     ]
    }
   ],
   "source": [
    "!pip install xgboost\n"
   ]
  },
  {
   "cell_type": "code",
   "execution_count": 53,
   "id": "ed62cfa8",
   "metadata": {},
   "outputs": [
    {
     "name": "stdout",
     "output_type": "stream",
     "text": [
      "Requirement already satisfied: lightgbm in c:\\users\\esman\\anaconda3\\lib\\site-packages (3.3.5)\n",
      "Requirement already satisfied: wheel in c:\\users\\esman\\anaconda3\\lib\\site-packages (from lightgbm) (0.38.4)\n",
      "Requirement already satisfied: numpy in c:\\users\\esman\\anaconda3\\lib\\site-packages (from lightgbm) (1.23.5)\n",
      "Requirement already satisfied: scipy in c:\\users\\esman\\anaconda3\\lib\\site-packages (from lightgbm) (1.10.1)\n",
      "Requirement already satisfied: scikit-learn!=0.22.0 in c:\\users\\esman\\anaconda3\\lib\\site-packages (from lightgbm) (1.2.2)\n",
      "Requirement already satisfied: threadpoolctl>=2.0.0 in c:\\users\\esman\\anaconda3\\lib\\site-packages (from scikit-learn!=0.22.0->lightgbm) (2.2.0)\n",
      "Requirement already satisfied: joblib>=1.1.1 in c:\\users\\esman\\anaconda3\\lib\\site-packages (from scikit-learn!=0.22.0->lightgbm) (1.2.0)\n"
     ]
    }
   ],
   "source": [
    "!pip install lightgbm"
   ]
  },
  {
   "cell_type": "code",
   "execution_count": 54,
   "id": "bc2f4fb5",
   "metadata": {},
   "outputs": [],
   "source": [
    "import warnings\n",
    "import numpy as np\n",
    "import pandas as pd\n",
    "import seaborn as sns\n",
    "from matplotlib import pyplot as plt\n",
    "from sklearn.ensemble import RandomForestClassifier, GradientBoostingClassifier, VotingClassifier\n",
    "from sklearn.model_selection import GridSearchCV, cross_validate, RandomizedSearchCV, validation_curve\n",
    "\n",
    "from xgboost import XGBClassifier\n",
    "from lightgbm import LGBMClassifier\n",
    "from catboost import CatBoostClassifier"
   ]
  },
  {
   "cell_type": "code",
   "execution_count": 55,
   "id": "6c96f3c8",
   "metadata": {},
   "outputs": [],
   "source": [
    "pd.set_option('display.max_columns', None)\n",
    "pd.set_option('display.width', 500)\n",
    "\n",
    "warnings.simplefilter(action='ignore', category=Warning)"
   ]
  },
  {
   "cell_type": "code",
   "execution_count": 56,
   "id": "258bdea2",
   "metadata": {},
   "outputs": [],
   "source": [
    "df = pd.read_csv(\"C:/Users/esman/PycharmProjects/feature_engineering/datasets/diabetes.csv\")\n"
   ]
  },
  {
   "cell_type": "code",
   "execution_count": 57,
   "id": "dfed86fd",
   "metadata": {},
   "outputs": [],
   "source": [
    "y = df[\"Outcome\"]\n",
    "X = df.drop([\"Outcome\"], axis=1)"
   ]
  },
  {
   "cell_type": "markdown",
   "id": "7b5d0122",
   "metadata": {},
   "source": [
    "# 1.RANDOM FOREST UYGULAMA"
   ]
  },
  {
   "cell_type": "code",
   "execution_count": 58,
   "id": "69475939",
   "metadata": {},
   "outputs": [],
   "source": [
    "#ilk başda işlemlere başlamadan önce bir hatama bakmak istiyorum.\n",
    "#modelleme öncesindeki yani hiperparametre optimizasyonu yapmadan önceki değerler.\n",
    "cv_results = cross_validate(rf_model, X, y, cv=10, scoring=[\"accuracy\", \"f1\", \"roc_auc\"])\n"
   ]
  },
  {
   "cell_type": "code",
   "execution_count": 59,
   "id": "e71c5902",
   "metadata": {},
   "outputs": [
    {
     "data": {
      "text/plain": [
       "0.766848940533151"
      ]
     },
     "execution_count": 59,
     "metadata": {},
     "output_type": "execute_result"
    }
   ],
   "source": [
    "cv_results['test_accuracy'].mean()\n"
   ]
  },
  {
   "cell_type": "code",
   "execution_count": 60,
   "id": "623520bd",
   "metadata": {},
   "outputs": [
    {
     "data": {
      "text/plain": [
       "0.6447777811143756"
      ]
     },
     "execution_count": 60,
     "metadata": {},
     "output_type": "execute_result"
    }
   ],
   "source": [
    "cv_results['test_f1'].mean()\n"
   ]
  },
  {
   "cell_type": "code",
   "execution_count": 61,
   "id": "81c24028",
   "metadata": {},
   "outputs": [
    {
     "data": {
      "text/plain": [
       "0.8271054131054132"
      ]
     },
     "execution_count": 61,
     "metadata": {},
     "output_type": "execute_result"
    }
   ],
   "source": [
    "cv_results['test_roc_auc'].mean()\n"
   ]
  },
  {
   "cell_type": "raw",
   "id": "6abe599b",
   "metadata": {},
   "source": [
    "                   Hiperparametre optimizasyonuna başlayalım.\n",
    "Normalde hiperparametre optimizasyonundan sonra çıkan hata daha düşük olacaktır.\n",
    "Eğer düşük çıkmazsa bunun iki nedeni olabilir; bunlardan biri rastgelelikle ilgili olabilir. Diğeride ön tanımlı argümanları arama setinde bulundurmuyor olmamızdan kaynaklı olabilir."
   ]
  },
  {
   "cell_type": "code",
   "execution_count": 62,
   "id": "e9a7428d",
   "metadata": {},
   "outputs": [
    {
     "data": {
      "text/plain": [
       "{'bootstrap': True,\n",
       " 'ccp_alpha': 0.0,\n",
       " 'class_weight': None,\n",
       " 'criterion': 'gini',\n",
       " 'max_depth': None,\n",
       " 'max_features': 'sqrt',\n",
       " 'max_leaf_nodes': None,\n",
       " 'max_samples': None,\n",
       " 'min_impurity_decrease': 0.0,\n",
       " 'min_samples_leaf': 1,\n",
       " 'min_samples_split': 2,\n",
       " 'min_weight_fraction_leaf': 0.0,\n",
       " 'n_estimators': 100,\n",
       " 'n_jobs': None,\n",
       " 'oob_score': False,\n",
       " 'random_state': 17,\n",
       " 'verbose': 0,\n",
       " 'warm_start': False}"
      ]
     },
     "execution_count": 62,
     "metadata": {},
     "output_type": "execute_result"
    }
   ],
   "source": [
    "rf_model = RandomForestClassifier(random_state=17)\n",
    "rf_model.get_params()"
   ]
  },
  {
   "cell_type": "raw",
   "id": "1bfaf912",
   "metadata": {},
   "source": [
    "yukarıdaki parametrelerden benim için;\n",
    "-max_features,\n",
    "-max_Depth,\n",
    "-min_sample_split,\n",
    "-criterion,\n",
    "-n_estimators = fit edilecek bağımsız ağaç sayısını ifade etmektedir. bunun ön tanımlı değerinin 100 olduğunu görüyorum. ama belkide 500 ağaç olduğunda daha iyi çalışacak?? bunu bilmiyorum. Bu değişkenlerin ön tanımlı değerlerini zaten değiştirebiliyorum. şimdi ne yapmalıyım; GRİDSEARCH ile en iyi değerleri bulmalıyım."
   ]
  },
  {
   "cell_type": "code",
   "execution_count": 63,
   "id": "1e619b19",
   "metadata": {},
   "outputs": [],
   "source": [
    "#dikkat ön tanımlı argümanlarınıda giriyorum.\n",
    "rf_params = {\"max_depth\": [5, 8, None],\n",
    "             \"max_features\": [3, 5, 7, \"auto\"],\n",
    "             \"min_samples_split\": [2, 5, 8, 15, 20],\n",
    "             \"n_estimators\": [100, 200, 500]}"
   ]
  },
  {
   "cell_type": "code",
   "execution_count": 64,
   "id": "4455d792",
   "metadata": {},
   "outputs": [
    {
     "name": "stdout",
     "output_type": "stream",
     "text": [
      "Fitting 5 folds for each of 180 candidates, totalling 900 fits\n"
     ]
    }
   ],
   "source": [
    "#gridsearchCV methoduyla bu parametrelerde arama yapıyorum.\n",
    "rf_best_grid = GridSearchCV(rf_model, rf_params, cv=5, n_jobs=-1, verbose=True).fit(X, y)\n"
   ]
  },
  {
   "cell_type": "code",
   "execution_count": 65,
   "id": "0b5c7e7a",
   "metadata": {},
   "outputs": [
    {
     "data": {
      "text/plain": [
       "{'max_depth': None,\n",
       " 'max_features': 5,\n",
       " 'min_samples_split': 8,\n",
       " 'n_estimators': 500}"
      ]
     },
     "execution_count": 65,
     "metadata": {},
     "output_type": "execute_result"
    }
   ],
   "source": [
    "#en iyi parametreleri elde etmek için:\n",
    "rf_best_grid.best_params_"
   ]
  },
  {
   "cell_type": "code",
   "execution_count": 66,
   "id": "aff8db60",
   "metadata": {},
   "outputs": [],
   "source": [
    "#final model oluştur.\n",
    "rf_final = rf_model.set_params(**rf_best_grid.best_params_, random_state=17).fit(X, y)"
   ]
  },
  {
   "cell_type": "code",
   "execution_count": 67,
   "id": "6cfb7ece",
   "metadata": {},
   "outputs": [],
   "source": [
    "\n",
    "cv_results = cross_validate(rf_final, X, y, cv=10, scoring=[\"accuracy\", \"f1\", \"roc_auc\"])\n"
   ]
  },
  {
   "cell_type": "code",
   "execution_count": 68,
   "id": "fc19c13e",
   "metadata": {},
   "outputs": [
    {
     "data": {
      "text/plain": [
       "0.766848940533151"
      ]
     },
     "execution_count": 68,
     "metadata": {},
     "output_type": "execute_result"
    }
   ],
   "source": [
    "cv_results['test_accuracy'].mean()\n"
   ]
  },
  {
   "cell_type": "code",
   "execution_count": 69,
   "id": "628393e6",
   "metadata": {},
   "outputs": [
    {
     "data": {
      "text/plain": [
       "0.6447777811143756"
      ]
     },
     "execution_count": 69,
     "metadata": {},
     "output_type": "execute_result"
    }
   ],
   "source": [
    "cv_results['test_f1'].mean()\n"
   ]
  },
  {
   "cell_type": "code",
   "execution_count": 70,
   "id": "a5928d7d",
   "metadata": {},
   "outputs": [
    {
     "data": {
      "text/plain": [
       "0.8271054131054132"
      ]
     },
     "execution_count": 70,
     "metadata": {},
     "output_type": "execute_result"
    }
   ],
   "source": [
    "cv_results['test_roc_auc'].mean()"
   ]
  },
  {
   "cell_type": "code",
   "execution_count": 1,
   "id": "5a19083a",
   "metadata": {},
   "outputs": [],
   "source": [
    "#yukarıdaki parametre değerleriyle, çalışmanın başında baktığın parametre değerlerini karşılaştır.\n"
   ]
  },
  {
   "cell_type": "code",
   "execution_count": 2,
   "id": "ff86d34f",
   "metadata": {},
   "outputs": [
    {
     "ename": "NameError",
     "evalue": "name 'X' is not defined",
     "output_type": "error",
     "traceback": [
      "\u001b[1;31m---------------------------------------------------------------------------\u001b[0m",
      "\u001b[1;31mNameError\u001b[0m                                 Traceback (most recent call last)",
      "Cell \u001b[1;32mIn[2], line 2\u001b[0m\n\u001b[0;32m      1\u001b[0m \u001b[38;5;66;03m#feature importance\u001b[39;00m\n\u001b[1;32m----> 2\u001b[0m \u001b[38;5;28;01mdef\u001b[39;00m \u001b[38;5;21mplot_importance\u001b[39m(model, features, num\u001b[38;5;241m=\u001b[39m\u001b[38;5;28mlen\u001b[39m(\u001b[43mX\u001b[49m), save\u001b[38;5;241m=\u001b[39m\u001b[38;5;28;01mFalse\u001b[39;00m):\n\u001b[0;32m      3\u001b[0m     feature_imp \u001b[38;5;241m=\u001b[39m pd\u001b[38;5;241m.\u001b[39mDataFrame({\u001b[38;5;124m'\u001b[39m\u001b[38;5;124mValue\u001b[39m\u001b[38;5;124m'\u001b[39m: model\u001b[38;5;241m.\u001b[39mfeature_importances_, \u001b[38;5;124m'\u001b[39m\u001b[38;5;124mFeature\u001b[39m\u001b[38;5;124m'\u001b[39m: features\u001b[38;5;241m.\u001b[39mcolumns})\n\u001b[0;32m      4\u001b[0m     plt\u001b[38;5;241m.\u001b[39mfigure(figsize\u001b[38;5;241m=\u001b[39m(\u001b[38;5;241m10\u001b[39m, \u001b[38;5;241m10\u001b[39m))\n",
      "\u001b[1;31mNameError\u001b[0m: name 'X' is not defined"
     ]
    }
   ],
   "source": [
    "#feature importance\n",
    "def plot_importance(model, features, num=len(X), save=False):\n",
    "    feature_imp = pd.DataFrame({'Value': model.feature_importances_, 'Feature': features.columns})\n",
    "    plt.figure(figsize=(10, 10))\n",
    "    sns.set(font_scale=1)\n",
    "    sns.barplot(x=\"Value\", y=\"Feature\", data=feature_imp.sort_values(by=\"Value\",\n",
    "                                                                     ascending=False)[0:num])\n",
    "    plt.title('Features')\n",
    "    plt.tight_layout()\n",
    "    plt.show()\n",
    "    if save:\n",
    "        plt.savefig('importances.png')\n",
    "        \n",
    "#bütün değişkenlerin önem sırasına göre grafik çıkarır. \n",
    "#eğer mesela en önemli 5 değişken istiyorsam; plot_importance(rf_final, X, num=5 )\n",
    "plot_importance(rf_final, X)"
   ]
  },
  {
   "cell_type": "code",
   "execution_count": null,
   "id": "1fb50530",
   "metadata": {},
   "outputs": [],
   "source": [
    "#validation curve çalıştır.\n",
    "def val_curve_params(model, X, y, param_name, param_range, scoring=\"roc_auc\", cv=10):\n",
    "    train_score, test_score = validation_curve(\n",
    "        model, X=X, y=y, param_name=param_name, param_range=param_range, scoring=scoring, cv=cv)\n",
    "\n",
    "    mean_train_score = np.mean(train_score, axis=1)\n",
    "    mean_test_score = np.mean(test_score, axis=1)\n",
    "\n",
    "    plt.plot(param_range, mean_train_score,\n",
    "             label=\"Training Score\", color='b')\n",
    "\n",
    "    plt.plot(param_range, mean_test_score,\n",
    "             label=\"Validation Score\", color='g')\n",
    "\n",
    "    plt.title(f\"Validation Curve for {type(model).__name__}\")\n",
    "    plt.xlabel(f\"Number of {param_name}\")\n",
    "    plt.ylabel(f\"{scoring}\")\n",
    "    plt.tight_layout()\n",
    "    plt.legend(loc='best')\n",
    "    plt.show(block=True)\n",
    "\n",
    "#max_Depth göre bir değerlendirme yapalım.\n",
    "val_curve_params(rf_final, X, y, \"max_depth\", range(1, 11), scoring=\"roc_auc\")"
   ]
  },
  {
   "cell_type": "markdown",
   "id": "d02a860f",
   "metadata": {},
   "source": [
    "# 2. Gradient Boosting Machines ( GBM )\n",
    "Artık optimizasyon sürecine dayalı olarak çalışan bir ağaç yöntemidir.\n",
    "GBM' ,in temelleri AdaBoost atmaktadır."
   ]
  },
  {
   "cell_type": "code",
   "execution_count": 71,
   "id": "2cc14abd",
   "metadata": {},
   "outputs": [
    {
     "ename": "NameError",
     "evalue": "name 'gbm_model' is not defined",
     "output_type": "error",
     "traceback": [
      "\u001b[1;31m---------------------------------------------------------------------------\u001b[0m",
      "\u001b[1;31mNameError\u001b[0m                                 Traceback (most recent call last)",
      "Cell \u001b[1;32mIn[71], line 2\u001b[0m\n\u001b[0;32m      1\u001b[0m \u001b[38;5;66;03m#modellemeye başlamadan önce yine bir hiperparametre optimizasyonundan önceki hatalara bakalım.\u001b[39;00m\n\u001b[1;32m----> 2\u001b[0m cv_results \u001b[38;5;241m=\u001b[39m cross_validate(\u001b[43mgbm_model\u001b[49m, X, y, cv\u001b[38;5;241m=\u001b[39m\u001b[38;5;241m5\u001b[39m, scoring\u001b[38;5;241m=\u001b[39m[\u001b[38;5;124m\"\u001b[39m\u001b[38;5;124maccuracy\u001b[39m\u001b[38;5;124m\"\u001b[39m, \u001b[38;5;124m\"\u001b[39m\u001b[38;5;124mf1\u001b[39m\u001b[38;5;124m\"\u001b[39m, \u001b[38;5;124m\"\u001b[39m\u001b[38;5;124mroc_auc\u001b[39m\u001b[38;5;124m\"\u001b[39m])\n\u001b[0;32m      3\u001b[0m cv_results[\u001b[38;5;124m'\u001b[39m\u001b[38;5;124mtest_accuracy\u001b[39m\u001b[38;5;124m'\u001b[39m]\u001b[38;5;241m.\u001b[39mmean()\n\u001b[0;32m      4\u001b[0m \u001b[38;5;66;03m# 0.7591715474068416\u001b[39;00m\n",
      "\u001b[1;31mNameError\u001b[0m: name 'gbm_model' is not defined"
     ]
    }
   ],
   "source": [
    "#modellemeye başlamadan önce yine bir hiperparametre optimizasyonundan önceki hatalara bakalım.\n",
    "cv_results = cross_validate(gbm_model, X, y, cv=5, scoring=[\"accuracy\", \"f1\", \"roc_auc\"])\n",
    "cv_results['test_accuracy'].mean()\n",
    "# 0.7591715474068416\n",
    "cv_results['test_f1'].mean()\n",
    "# 0.634\n",
    "cv_results['test_roc_auc'].mean()\n",
    "# 0.82548"
   ]
  },
  {
   "cell_type": "code",
   "execution_count": 72,
   "id": "cc5cde40",
   "metadata": {},
   "outputs": [],
   "source": [
    "#modelimizi tanımlayalım\n",
    "gbm_model = GradientBoostingClassifier(random_state=17)"
   ]
  },
  {
   "cell_type": "code",
   "execution_count": 73,
   "id": "238a5314",
   "metadata": {},
   "outputs": [
    {
     "data": {
      "text/plain": [
       "{'ccp_alpha': 0.0,\n",
       " 'criterion': 'friedman_mse',\n",
       " 'init': None,\n",
       " 'learning_rate': 0.1,\n",
       " 'loss': 'log_loss',\n",
       " 'max_depth': 3,\n",
       " 'max_features': None,\n",
       " 'max_leaf_nodes': None,\n",
       " 'min_impurity_decrease': 0.0,\n",
       " 'min_samples_leaf': 1,\n",
       " 'min_samples_split': 2,\n",
       " 'min_weight_fraction_leaf': 0.0,\n",
       " 'n_estimators': 100,\n",
       " 'n_iter_no_change': None,\n",
       " 'random_state': 17,\n",
       " 'subsample': 1.0,\n",
       " 'tol': 0.0001,\n",
       " 'validation_fraction': 0.1,\n",
       " 'verbose': 0,\n",
       " 'warm_start': False}"
      ]
     },
     "execution_count": 73,
     "metadata": {},
     "output_type": "execute_result"
    }
   ],
   "source": [
    "#ön tanımlı değerlerine bakalım.\n",
    "#n_estimaators=optimizasyon sayısıdır. kaç defa boost ettin.\n",
    "gbm_model.get_params()\n"
   ]
  },
  {
   "cell_type": "code",
   "execution_count": 74,
   "id": "6a6e1eff",
   "metadata": {},
   "outputs": [],
   "source": [
    "#ön tanımlı değerleri barındaracak şekilde değerlerle oynayabilirisn.\n",
    "#leatning rate oranını ne kadar düşük girersen o kadar başarılı sonuçlar alırısn.\n",
    "#subsample= göz önünde bulundurulacak gözlem oranı\n",
    "gbm_params = {\"learning_rate\": [0.01, 0.1],\n",
    "              \"max_depth\": [3, 8, 10],\n",
    "              \"n_estimators\": [100, 500, 1000],\n",
    "              \"subsample\": [1, 0.5, 0.7]}\n"
   ]
  },
  {
   "cell_type": "code",
   "execution_count": 75,
   "id": "8ad447c2",
   "metadata": {},
   "outputs": [
    {
     "name": "stdout",
     "output_type": "stream",
     "text": [
      "Fitting 5 folds for each of 54 candidates, totalling 270 fits\n"
     ]
    }
   ],
   "source": [
    "#en iyi parametre değerleri\n",
    "gbm_best_grid = GridSearchCV(gbm_model, gbm_params, cv=5, n_jobs=-1, verbose=True).fit(X, y)\n"
   ]
  },
  {
   "cell_type": "code",
   "execution_count": 76,
   "id": "ddbff61d",
   "metadata": {},
   "outputs": [
    {
     "data": {
      "text/plain": [
       "{'learning_rate': 0.1, 'max_depth': 8, 'n_estimators': 100, 'subsample': 0.5}"
      ]
     },
     "execution_count": 76,
     "metadata": {},
     "output_type": "execute_result"
    }
   ],
   "source": [
    "gbm_best_grid.best_params_\n"
   ]
  },
  {
   "cell_type": "code",
   "execution_count": 77,
   "id": "7b7592e1",
   "metadata": {},
   "outputs": [],
   "source": [
    "#final modelini kur\n",
    "gbm_final = gbm_model.set_params(**gbm_best_grid.best_params_, random_state=17, ).fit(X, y)\n"
   ]
  },
  {
   "cell_type": "code",
   "execution_count": null,
   "id": "683d66df",
   "metadata": {},
   "outputs": [],
   "source": [
    "#final modelinde ki başarı için metriklerini hesapla. ve önceki değerlerle karşılaştır.\n",
    "cv_results = cross_validate(gbm_model, X, y, cv=5, scoring=[\"accuracy\", \"f1\", \"roc_auc\"])"
   ]
  },
  {
   "cell_type": "code",
   "execution_count": null,
   "id": "f1e96e2b",
   "metadata": {},
   "outputs": [],
   "source": [
    "cv_results['test_accuracy'].mean()\n"
   ]
  },
  {
   "cell_type": "code",
   "execution_count": null,
   "id": "7db5ae4e",
   "metadata": {},
   "outputs": [],
   "source": [
    "cv_results['test_f1'].mean()\n"
   ]
  },
  {
   "cell_type": "code",
   "execution_count": null,
   "id": "2ab4c816",
   "metadata": {},
   "outputs": [],
   "source": [
    "cv_results['test_roc_auc'].mean()\n"
   ]
  },
  {
   "cell_type": "raw",
   "id": "4e0b4b53",
   "metadata": {},
   "source": [
    "değişken önem düzeyi, validation curve, öğrenme eprisi vs bu yöntemle de oluşturabilrisin bunlarıda. biz şimdi bunu yapmayacağız."
   ]
  },
  {
   "cell_type": "markdown",
   "id": "3c628d89",
   "metadata": {},
   "source": [
    "# 3.XGBoost"
   ]
  },
  {
   "cell_type": "code",
   "execution_count": null,
   "id": "fa51fd03",
   "metadata": {},
   "outputs": [],
   "source": [
    "cv_results = cross_validate(xgboost_model, X, y, cv=5, scoring=[\"accuracy\", \"f1\", \"roc_auc\"])\n",
    "cv_results['test_accuracy'].mean()\n",
    "# 0.75265\n",
    "cv_results['test_f1'].mean()\n",
    "# 0.631\n",
    "cv_results['test_roc_auc'].mean()\n",
    "# 0.7987"
   ]
  },
  {
   "cell_type": "code",
   "execution_count": null,
   "id": "e25c6cc3",
   "metadata": {},
   "outputs": [],
   "source": [
    "xgboost_model = XGBClassifier(random_state=17, use_label_encoder=False)\n",
    "xgboost_model.get_params()"
   ]
  },
  {
   "cell_type": "code",
   "execution_count": null,
   "id": "c66f0b10",
   "metadata": {},
   "outputs": [],
   "source": [
    "xgboost_params = {\"learning_rate\": [0.1, 0.01],\n",
    "                  \"max_depth\": [5, 8],\n",
    "                  \"n_estimators\": [100, 500, 1000],\n",
    "                  \"colsample_bytree\": [0.7, 1]}  #colsample ile subsample aynı şey. dokümantasyondan incele."
   ]
  },
  {
   "cell_type": "code",
   "execution_count": null,
   "id": "e772543e",
   "metadata": {},
   "outputs": [],
   "source": [
    "xgboost_best_grid = GridSearchCV(xgboost_model, xgboost_params, cv=5, n_jobs=-1, verbose=True).fit(X, y)\n"
   ]
  },
  {
   "cell_type": "code",
   "execution_count": null,
   "id": "53f7ffe4",
   "metadata": {},
   "outputs": [],
   "source": [
    "#final model kuralım\n",
    "xgboost_final = xgboost_model.set_params(**xgboost_best_grid.best_params_, random_state=17).fit(X, y)\n"
   ]
  },
  {
   "cell_type": "code",
   "execution_count": null,
   "id": "5be64823",
   "metadata": {},
   "outputs": [],
   "source": [
    "#model başarısı için parametre değerlerine bak.\n",
    "cv_results = cross_validate(xgboost_final, X, y, cv=5, scoring=[\"accuracy\", \"f1\", \"roc_auc\"])\n"
   ]
  },
  {
   "cell_type": "code",
   "execution_count": null,
   "id": "02b609da",
   "metadata": {},
   "outputs": [],
   "source": [
    "cv_results['test_accuracy'].mean()\n"
   ]
  },
  {
   "cell_type": "code",
   "execution_count": null,
   "id": "3b4cb814",
   "metadata": {},
   "outputs": [],
   "source": [
    "cv_results['test_f1'].mean()\n"
   ]
  },
  {
   "cell_type": "code",
   "execution_count": null,
   "id": "cac59d96",
   "metadata": {},
   "outputs": [],
   "source": [
    "cv_results['test_roc_auc'].mean()\n"
   ]
  },
  {
   "cell_type": "markdown",
   "id": "bbe5dfbd",
   "metadata": {},
   "source": [
    "# 4.LİGHTGBM\n",
    "hızlıdır.\n",
    "- teorikte randomforest, uygulamada lightgbm tercih etmek daha doğru olabilir.\n",
    "- LightGBM derinlemesine bir arama yaptığı için değişken öenm düzeyleri değişebilir. bu nednele eğer özellik seçimi (feature importance) işlemleri yapacaksam; \n",
    "randomforest ve xgboost bakarak karar vermeye çalış.\n",
    "\n",
    "LİGHTGBM in en önemli parametresi; n_estimators dır. tahmin sayısı, işlem sayısı (iterasyon sayısı), boostring sayısıdır.\n",
    "lightgbm de 5000,10000 gibi n_estimators değerleirni mutlaka denemeliyiz."
   ]
  },
  {
   "cell_type": "code",
   "execution_count": null,
   "id": "5a45a3ea",
   "metadata": {},
   "outputs": [],
   "source": [
    "#Modeli kurmadan önce parametre değerleirne bak.\n",
    "cv_results = cross_validate(xgboost_model, X, y, cv=5, scoring=[\"accuracy\", \"f1\", \"roc_auc\"])\n",
    "cv_results['test_accuracy'].mean()\n",
    "# 0.75265\n",
    "cv_results['test_f1'].mean()\n",
    "# 0.631\n",
    "cv_results['test_roc_auc'].mean()\n",
    "# 0.7987"
   ]
  },
  {
   "cell_type": "code",
   "execution_count": null,
   "id": "43daeea5",
   "metadata": {},
   "outputs": [],
   "source": [
    "#modelleme\n",
    "lgbm_model = LGBMClassifier(random_state=17)\n",
    "lgbm_model.get_params()\n"
   ]
  },
  {
   "cell_type": "code",
   "execution_count": null,
   "id": "2c3be60d",
   "metadata": {},
   "outputs": [],
   "source": [
    "#parametre setini oluştur.\n",
    "lgbm_params = {\"learning_rate\": [0.01, 0.1],\n",
    "               \"n_estimators\": [100, 300, 500, 1000],\n",
    "               \"colsample_bytree\": [0.5, 0.7, 1]}"
   ]
  },
  {
   "cell_type": "code",
   "execution_count": null,
   "id": "be54c466",
   "metadata": {},
   "outputs": [],
   "source": [
    "lgbm_best_grid = GridSearchCV(lgbm_model, lgbm_params, cv=5, n_jobs=-1, verbose=True).fit(X, y)"
   ]
  },
  {
   "cell_type": "code",
   "execution_count": null,
   "id": "583d88e7",
   "metadata": {},
   "outputs": [],
   "source": [
    "lgbm_final = lgbm_model.set_params(**lgbm_best_grid.best_params_, random_state=17).fit(X, y)"
   ]
  },
  {
   "cell_type": "code",
   "execution_count": null,
   "id": "01b66f5f",
   "metadata": {},
   "outputs": [],
   "source": [
    "#şimdiki metriklerin değerleri daha yüksek o zaman dahha başarılıyım \n",
    "cv_results = cross_validate(lgbm_final, X, y, cv=5, scoring=[\"accuracy\", \"f1\", \"roc_auc\"])\n",
    "\n",
    "cv_results['test_accuracy'].mean()\n",
    "cv_results['test_f1'].mean()\n",
    "cv_results['test_roc_auc'].mean()"
   ]
  },
  {
   "cell_type": "code",
   "execution_count": null,
   "id": "05f86422",
   "metadata": {},
   "outputs": [],
   "source": [
    "# Hiperparametre yeni değerlerle\n",
    "lgbm_params = {\"learning_rate\": [0.01, 0.02, 0.05, 0.1],\n",
    "               \"n_estimators\": [200, 300, 350, 400],\n",
    "               \"colsample_bytree\": [0.9, 0.8, 1]}\n",
    "\n",
    "lgbm_best_grid = GridSearchCV(lgbm_model, lgbm_params, cv=5, n_jobs=-1, verbose=True).fit(X, y)\n",
    "\n",
    "lgbm_final = lgbm_model.set_params(**lgbm_best_grid.best_params_, random_state=17).fit(X, y)\n",
    "\n",
    "cv_results = cross_validate(lgbm_final, X, y, cv=5, scoring=[\"accuracy\", \"f1\", \"roc_auc\"])\n",
    "\n",
    "cv_results['test_accuracy'].mean()\n",
    "cv_results['test_f1'].mean()\n",
    "cv_results['test_roc_auc'].mean()"
   ]
  },
  {
   "cell_type": "code",
   "execution_count": null,
   "id": "001b38bc",
   "metadata": {},
   "outputs": [],
   "source": [
    "# Hiperparametre optimizasyonu sadece n_estimators için.\n",
    "lgbm_model = LGBMClassifier(random_state=17, colsample_bytree=0.9, learning_rate=0.01)\n",
    "\n",
    "lgbm_params = {\"n_estimators\": [200, 400, 1000, 5000, 8000, 9000, 10000]}\n",
    "\n",
    "lgbm_best_grid = GridSearchCV(lgbm_model, lgbm_params, cv=5, n_jobs=-1, verbose=True).fit(X, y)\n",
    "\n",
    "lgbm_final = lgbm_model.set_params(**lgbm_best_grid.best_params_, random_state=17).fit(X, y)\n",
    "\n",
    "cv_results = cross_validate(lgbm_final, X, y, cv=5, scoring=[\"accuracy\", \"f1\", \"roc_auc\"])\n",
    "\n",
    "cv_results['test_accuracy'].mean()\n",
    "cv_results['test_f1'].mean()\n",
    "cv_results['test_roc_auc'].mean()"
   ]
  },
  {
   "cell_type": "code",
   "execution_count": null,
   "id": "ca17e6e5",
   "metadata": {},
   "outputs": [],
   "source": [
    "#şimdi en iyi parametre değerine bak kaç olmuş?\n",
    "lgbm_best_grid.best_params_"
   ]
  },
  {
   "cell_type": "markdown",
   "id": "fe41d24a",
   "metadata": {},
   "source": [
    "# 5.  CATBOOST"
   ]
  },
  {
   "cell_type": "code",
   "execution_count": null,
   "id": "3ef065c7",
   "metadata": {},
   "outputs": [],
   "source": [
    "catboost_model = CatBoostClassifier(random_state=17, verbose=False)\n"
   ]
  },
  {
   "cell_type": "code",
   "execution_count": null,
   "id": "d04e3466",
   "metadata": {},
   "outputs": [],
   "source": [
    "#hiperparametre optimizasyonu yapacağım. yapmadan önce başarı metriklerime bakalım.\n",
    "cv_results = cross_validate(catboost_model, X, y, cv=5, scoring=[\"accuracy\", \"f1\", \"roc_auc\"])\n",
    "\n",
    "cv_results['test_accuracy'].mean()\n",
    "cv_results['test_f1'].mean()\n",
    "cv_results['test_roc_auc'].mean()"
   ]
  },
  {
   "cell_type": "code",
   "execution_count": null,
   "id": "a99ee218",
   "metadata": {},
   "outputs": [],
   "source": [
    "#hiperparametre optimizyanu\n",
    "catboost_params = {\"iterations\": [200, 500],\n",
    "                   \"learning_rate\": [0.01, 0.1],\n",
    "                   \"depth\": [3, 6]}"
   ]
  },
  {
   "cell_type": "code",
   "execution_count": null,
   "id": "8f17eac0",
   "metadata": {},
   "outputs": [],
   "source": [
    "catboost_best_grid = GridSearchCV(catboost_model, catboost_params, cv=5, n_jobs=-1, verbose=True).fit(X, y)\n",
    "\n"
   ]
  },
  {
   "cell_type": "code",
   "execution_count": null,
   "id": "8d708f2d",
   "metadata": {},
   "outputs": [],
   "source": [
    "catboost_final = catboost_model.set_params(**catboost_best_grid.best_params_, random_state=17).fit(X, y)"
   ]
  },
  {
   "cell_type": "code",
   "execution_count": null,
   "id": "48410838",
   "metadata": {},
   "outputs": [],
   "source": [
    "cv_results = cross_validate(catboost_final, X, y, cv=5, scoring=[\"accuracy\", \"f1\", \"roc_auc\"])\n",
    "\n",
    "cv_results['test_accuracy'].mean()\n",
    "cv_results['test_f1'].mean()\n",
    "cv_results['test_roc_auc'].mean()"
   ]
  },
  {
   "cell_type": "markdown",
   "id": "42497a4e",
   "metadata": {},
   "source": [
    "# MODELLERİ FUTURE İMPORTANCE BAZINDA İNCELEMEK\n",
    "importance skoru 0 a yakın olan değişkenlerle ilgilenmem. çünkü bunlar hiperparametre optimizasyonu sürecini uzatır. hazırlanacak olan dokümantasyonları uzatır.\n",
    "gereksiz future türetmekde mantıksız. gerçekten modelin başarısını olumlu etkiliyorsa bunları kullanmalısın.\n",
    "Mkine öğrenimi model geliştirme sürecindetemel amacımız; \"mümkün olan en basit haliyle mümkün olan en başarılı modeli kullanmaktır.\"\n",
    "\n",
    "biz future seçmek istediğimizde, farklı modellerin future importance düzeylerine bakıp karar verebilriz. "
   ]
  },
  {
   "cell_type": "code",
   "execution_count": null,
   "id": "0b0472b9",
   "metadata": {},
   "outputs": [],
   "source": [
    "\n",
    "def plot_importance(model, features, num=len(X), save=False):\n",
    "    feature_imp = pd.DataFrame({'Value': model.feature_importances_, 'Feature': features.columns})\n",
    "    plt.figure(figsize=(10, 10))\n",
    "    sns.set(font_scale=1)\n",
    "    sns.barplot(x=\"Value\", y=\"Feature\", data=feature_imp.sort_values(by=\"Value\",\n",
    "                                                                     ascending=False)[0:num])\n",
    "    plt.title('Features')\n",
    "    plt.tight_layout()\n",
    "    plt.show()\n",
    "    if save:\n",
    "        plt.savefig('importances.png')"
   ]
  },
  {
   "cell_type": "code",
   "execution_count": null,
   "id": "980c616e",
   "metadata": {},
   "outputs": [],
   "source": [
    "#randomforest da future importance\n",
    "\n",
    "plot_importance(rf_final, X)"
   ]
  },
  {
   "cell_type": "code",
   "execution_count": null,
   "id": "5856c91f",
   "metadata": {},
   "outputs": [],
   "source": [
    "#gbm de future importance\n",
    "\n",
    "plot_importance(gbm_final, X)"
   ]
  },
  {
   "cell_type": "code",
   "execution_count": null,
   "id": "d9014afa",
   "metadata": {},
   "outputs": [],
   "source": [
    "#xgboost da future importance\n",
    "\n",
    "plot_importance(xgboost_final, X)\n"
   ]
  },
  {
   "cell_type": "code",
   "execution_count": null,
   "id": "d97a68ce",
   "metadata": {},
   "outputs": [],
   "source": [
    "#lightgbm de future importance\n",
    "\n",
    "plot_importance(lgbm_final, X)\n"
   ]
  },
  {
   "cell_type": "code",
   "execution_count": null,
   "id": "3a08042f",
   "metadata": {},
   "outputs": [],
   "source": [
    "#catboost da future importance\n",
    "\n",
    "plot_importance(catboost_final, X)"
   ]
  },
  {
   "cell_type": "markdown",
   "id": "94baa0b4",
   "metadata": {},
   "source": [
    "# HİPERPARAMETRE OPTİMİZASYONU İÇİN RANDOMSEARCHCV\n",
    "gridsearchcv --> verilen bir setin olası bütün kombinasyonlarını tek tek dener. randome göre daha uzun sürer.\n",
    "\n",
    "randomsearchcv --> verilecek bir hiperparametre seti içeriisnden rastgele seçimler yapar. ve bu rastgele seçimleri arar. "
   ]
  },
  {
   "cell_type": "code",
   "execution_count": null,
   "id": "62043306",
   "metadata": {},
   "outputs": [],
   "source": [
    "rf_model = RandomForestClassifier(random_state=17)\n"
   ]
  },
  {
   "cell_type": "code",
   "execution_count": null,
   "id": "eb39ee1d",
   "metadata": {},
   "outputs": [],
   "source": [
    "rf_random_params = {\"max_depth\": np.random.randint(5, 50, 10),   #5 den 50 ye kadar 10 tane sayı oluştur.\n",
    "                    \"max_features\": [3, 5, 7, \"auto\", \"sqrt\"],\n",
    "                    \"min_samples_split\": np.random.randint(2, 50, 20), # 2 den 50 ye kadar 20 tane sayı oluştur.\n",
    "                    \"n_estimators\": [int(x) for x in np.linspace(start=200, stop=1500, num=10)]}  #200 den 1500 e kadar 10 tane sayı oluştur. "
   ]
  },
  {
   "cell_type": "code",
   "execution_count": null,
   "id": "0c93da91",
   "metadata": {},
   "outputs": [],
   "source": [
    "rf_random = RandomizedSearchCV(estimator=rf_model,\n",
    "                               param_distributions=rf_random_params,\n",
    "                               n_iter=100,  # denenecek parametre sayısı\n",
    "                               cv=3,\n",
    "                               verbose=True,\n",
    "                               random_state=42,\n",
    "                               n_jobs=-1)\n",
    "\n",
    "rf_random.fit(X, y)"
   ]
  },
  {
   "cell_type": "code",
   "execution_count": null,
   "id": "5d3abe22",
   "metadata": {},
   "outputs": [],
   "source": [
    "rf_random.best_params_\n"
   ]
  },
  {
   "cell_type": "code",
   "execution_count": null,
   "id": "0774f509",
   "metadata": {},
   "outputs": [],
   "source": [
    "rf_random_final = rf_model.set_params(**rf_random.best_params_, random_state=17).fit(X, y)\n"
   ]
  },
  {
   "cell_type": "code",
   "execution_count": null,
   "id": "4b50664b",
   "metadata": {},
   "outputs": [],
   "source": [
    "cv_results = cross_validate(rf_random_final, X, y, cv=5, scoring=[\"accuracy\", \"f1\", \"roc_auc\"])\n",
    "\n",
    "cv_results['test_accuracy'].mean()\n",
    "cv_results['test_f1'].mean()\n",
    "cv_results['test_roc_auc'].mean()\n"
   ]
  },
  {
   "cell_type": "markdown",
   "id": "7644a867",
   "metadata": {},
   "source": [
    "# ÖĞRENME EĞRİLERİYLE MODEL KARMAŞIKLIĞINI İNCELEME"
   ]
  },
  {
   "cell_type": "code",
   "execution_count": null,
   "id": "064fa59f",
   "metadata": {},
   "outputs": [],
   "source": [
    "def val_curve_params(model, X, y, param_name, param_range, scoring=\"roc_auc\", cv=10):\n",
    "    train_score, test_score = validation_curve(\n",
    "        model, X=X, y=y, param_name=param_name, param_range=param_range, scoring=scoring, cv=cv)\n",
    "\n",
    "    mean_train_score = np.mean(train_score, axis=1)\n",
    "    mean_test_score = np.mean(test_score, axis=1)\n",
    "\n",
    "    plt.plot(param_range, mean_train_score,\n",
    "             label=\"Training Score\", color='b')\n",
    "\n",
    "    plt.plot(param_range, mean_test_score,\n",
    "             label=\"Validation Score\", color='g')\n",
    "\n",
    "    plt.title(f\"Validation Curve for {type(model).__name__}\")\n",
    "    plt.xlabel(f\"Number of {param_name}\")\n",
    "    plt.ylabel(f\"{scoring}\")\n",
    "    plt.tight_layout()\n",
    "    plt.legend(loc='best')\n",
    "    plt.show(block=True)"
   ]
  },
  {
   "cell_type": "code",
   "execution_count": null,
   "id": "02628e76",
   "metadata": {},
   "outputs": [],
   "source": [
    "rf_val_params = [[\"max_depth\", [5, 8, 15, 20, 30, None]],\n",
    "                 [\"max_features\", [3, 5, 7, \"auto\"]],\n",
    "                 [\"min_samples_split\", [2, 5, 8, 15, 20]],\n",
    "                 [\"n_estimators\", [10, 50, 100, 200, 500]]]"
   ]
  },
  {
   "cell_type": "code",
   "execution_count": null,
   "id": "54b48b79",
   "metadata": {},
   "outputs": [],
   "source": [
    "rf_model = RandomForestClassifier(random_state=17)\n"
   ]
  },
  {
   "cell_type": "code",
   "execution_count": null,
   "id": "c16d9804",
   "metadata": {},
   "outputs": [],
   "source": [
    "#ilgili parametrelerdeki farkklılıklar net bir şekilde görülür.\n",
    "for i in range(len(rf_val_params)):\n",
    "    val_curve_params(rf_model, X, y, rf_val_params[i][0], rf_val_params[i][1])\n",
    "\n"
   ]
  },
  {
   "cell_type": "code",
   "execution_count": null,
   "id": "71a4bede",
   "metadata": {},
   "outputs": [],
   "source": [
    "rf_val_params[0][1]"
   ]
  }
 ],
 "metadata": {
  "kernelspec": {
   "display_name": "Python 3 (ipykernel)",
   "language": "python",
   "name": "python3"
  },
  "language_info": {
   "codemirror_mode": {
    "name": "ipython",
    "version": 3
   },
   "file_extension": ".py",
   "mimetype": "text/x-python",
   "name": "python",
   "nbconvert_exporter": "python",
   "pygments_lexer": "ipython3",
   "version": "3.9.16"
  }
 },
 "nbformat": 4,
 "nbformat_minor": 5
}
